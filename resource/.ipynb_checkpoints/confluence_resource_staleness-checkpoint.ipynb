{
 "cells": [
  {
   "cell_type": "code",
   "execution_count": null,
   "metadata": {
    "ExecuteTime": {
     "end_time": "2022-09-14T23:32:32.928580Z",
     "start_time": "2022-09-14T23:32:32.923593Z"
    },
    "code_folding": [
     0
    ]
   },
   "outputs": [],
   "source": [
    "### Install & Import Packages ###\n",
    "\n",
    "# pip install -upgrade setuptools --user\n",
    "# pip install atlassian-python-api --user\n",
    "\n",
    "from atlassian import Confluence\n",
    "import pandas as pd\n",
    "\n",
    "from pandas import DataFrame as df\n",
    "\n",
    "import datetime\n",
    "from datetime import datetime, timezone, timedelta\n",
    "from pytz import timezone as tzpy"
   ]
  },
  {
   "cell_type": "code",
   "execution_count": null,
   "metadata": {
    "ExecuteTime": {
     "end_time": "2022-09-14T22:49:34.725181Z",
     "start_time": "2022-09-14T22:49:34.714211Z"
    },
    "code_folding": [
     0
    ]
   },
   "outputs": [],
   "source": [
    "# ### Variables: Satya ###\n",
    "# url_base = 'satyabhambhani21'\n",
    "# email_admin = 'satyabhambhani21@gmail.com'\n",
    "# apikey = 'ReaaJSjQCsZUYTbPkhE13EA5'"
   ]
  },
  {
   "cell_type": "code",
   "execution_count": null,
   "metadata": {
    "ExecuteTime": {
     "end_time": "2022-09-14T22:49:34.725181Z",
     "start_time": "2022-09-14T22:49:34.714211Z"
    },
    "code_folding": []
   },
   "outputs": [],
   "source": [
    "### Variables: Neha ###\n",
    "url_base = 'satyabhambhani21'\n",
    "email_admin = 'satyabhambhani21@gmail.com'\n",
    "apikey = 'ReaaJSjQCsZUYTbPkhE13EA5'"
   ]
  },
  {
   "cell_type": "code",
   "execution_count": null,
   "metadata": {
    "code_folding": [
     0
    ]
   },
   "outputs": [],
   "source": [
    "### Admin ###\n",
    "url_server = f'https://{url_base}.atlassian.net/wiki'\n",
    "\n",
    "# my team members\n",
    "email_sdsu = 'sbhambhani4651@sdsu.edu'\n",
    "email_yahoo = 'satyab21@yahoo.in'"
   ]
  },
  {
   "cell_type": "code",
   "execution_count": null,
   "metadata": {
    "ExecuteTime": {
     "end_time": "2022-09-14T22:49:35.177971Z",
     "start_time": "2022-09-14T22:49:35.171988Z"
    },
    "code_folding": [
     1
    ]
   },
   "outputs": [],
   "source": [
    "### Instantiate ###\n",
    "confluence = Confluence(\n",
    "    url=url_server, \n",
    "    username=email_admin, \n",
    "    password=apikey)"
   ]
  },
  {
   "cell_type": "markdown",
   "metadata": {},
   "source": [
    "## Get Data"
   ]
  },
  {
   "cell_type": "code",
   "execution_count": null,
   "metadata": {
    "ExecuteTime": {
     "end_time": "2022-09-14T22:51:42.788127Z",
     "start_time": "2022-09-14T22:51:40.891201Z"
    },
    "code_folding": [
     0,
     63
    ]
   },
   "outputs": [],
   "source": [
    "### Get Data ###\n",
    "\n",
    "spaces = confluence.get_all_spaces()\n",
    "df_spaces = df(spaces['results'], columns=['id', 'key', 'name', 'status', 'type'])\n",
    "df_spaces = df_spaces[df_spaces['type']=='global']\n",
    "display(df_spaces)\n",
    "\n",
    "list_space_page_details = []\n",
    "for idx_s, row_s in df_spaces.iterrows():\n",
    "    \n",
    "    space_key = row_s['key']\n",
    "    space_id = row_s['id']\n",
    "    space_name = row_s['name']\n",
    "    \n",
    "    df_get_all_pages = df(confluence.get_all_pages_from_space(space=space_key))\n",
    "#     display(df_get_all_pages)\n",
    "    \n",
    "    \n",
    "    for idx_p, rp in df_get_all_pages.iterrows(): # row-p\n",
    "        page_id = rp['id']\n",
    "        page_title = rp['title']\n",
    "        page_status = rp['status']\n",
    "        \n",
    "        history = confluence.history(page_id)        \n",
    "        lastUpdated = history['lastUpdated']            \n",
    "        lastUpdated_by = lastUpdated['by']\n",
    "        createdBy = history['createdBy']\n",
    "        \n",
    "        lastUpdated_by_displayName = lastUpdated_by['displayName']\n",
    "        lastUpdated_by_email = lastUpdated_by['email']\n",
    "        lastUpdated_by_accountId = lastUpdated_by['accountId'] \n",
    "        \n",
    "        lastUpdated_when = lastUpdated['when']\n",
    "        lastUpdated_friendlyWhen = lastUpdated['friendlyWhen']\n",
    "                \n",
    "        createdBy_email = createdBy['email']\n",
    "        createdBy_displayName = createdBy['displayName']\n",
    "        \n",
    "        createdDate = history['createdDate']\n",
    "        \n",
    "        dict_page = {\n",
    "            'space_id' : space_id,\n",
    "            'space_key' : space_key,\n",
    "            'space_name' : space_name,\n",
    "            \n",
    "            'page_id' : page_id,\n",
    "            'page_title' : page_title,\n",
    "            'page_status' : page_status,\n",
    "            \n",
    "            'lastUpdated_by_displayName': lastUpdated_by_displayName,\n",
    "            'lastUpdated_by_accountId' : lastUpdated_by_accountId,\n",
    "            'lastUpdated_by_email' : lastUpdated_by_email,\n",
    "            \n",
    "            'lastUpdated_when' : lastUpdated_when,\n",
    "            'lastUpdated_friendlyWhen' : lastUpdated_friendlyWhen,\n",
    "            \n",
    "            'createdBy_email' : createdBy_email,\n",
    "            'createdBy_displayName' : createdBy_displayName,\n",
    "            'createdDate' : createdDate       \n",
    "        }\n",
    "        list_space_page_details.append(dict_page)\n",
    "        \n",
    "# df_cf = (df(list_space_page_details))   \n",
    "df_cf_col = [\n",
    "    'space_id',\n",
    "    'space_name',\n",
    "\n",
    "    'page_title',\n",
    "\n",
    "    'lastUpdated_friendlyWhen',\n",
    "    'lastUpdated_by_displayName',\n",
    "    'lastUpdated_by_email',\n",
    "    'lastUpdated_when',\n",
    "    'lastUpdated_by_accountId',\n",
    "    \n",
    "    'createdDate',\n",
    "    'createdBy_displayName',\n",
    "    'createdBy_email',\n",
    "    \n",
    "    'page_id',\n",
    "    'space_key',\n",
    "    'page_status'\n",
    "]\n",
    "\n",
    "df_cf = df(list_space_page_details, columns=df_cf_col)\n",
    "display(df_cf)"
   ]
  },
  {
   "cell_type": "code",
   "execution_count": null,
   "metadata": {
    "ExecuteTime": {
     "end_time": "2022-09-14T23:35:18.023984Z",
     "start_time": "2022-09-14T23:35:18.005036Z"
    },
    "code_folding": [
     0
    ]
   },
   "outputs": [],
   "source": [
    "# # timezone\n",
    "\n",
    "# ts = df_cf['lastUpdated_when'][0]\n",
    "# (ts)\n",
    "\n",
    "# utc = datetime.fromisoformat(ts[:-1]).astimezone(timezone.utc)\n",
    "# pst = (utc.replace(tzinfo=timezone.utc).astimezone(tz=None))\n",
    "# # pst = (utc.replace(tzinfo=timezone.utc).astimezone(timezone('US/Pacific')))\n",
    "\n",
    "# pst\n",
    "\n",
    "# pst = pst.astimezone(tzpy('US/Pacific'))"
   ]
  }
 ],
 "metadata": {
  "kernelspec": {
   "display_name": "Python 3",
   "language": "python",
   "name": "python3"
  },
  "language_info": {
   "codemirror_mode": {
    "name": "ipython",
    "version": 3
   },
   "file_extension": ".py",
   "mimetype": "text/x-python",
   "name": "python",
   "nbconvert_exporter": "python",
   "pygments_lexer": "ipython3",
   "version": "3.7.1"
  }
 },
 "nbformat": 4,
 "nbformat_minor": 2
}
