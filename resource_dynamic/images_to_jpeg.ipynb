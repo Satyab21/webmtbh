{
 "cells": [
  {
   "cell_type": "code",
   "execution_count": 31,
   "metadata": {
    "ExecuteTime": {
     "end_time": "2023-02-05T20:24:16.691129Z",
     "start_time": "2023-02-05T20:24:16.674061Z"
    }
   },
   "outputs": [],
   "source": [
    "# !pip install fpdf2"
   ]
  },
  {
   "cell_type": "code",
   "execution_count": 24,
   "metadata": {
    "ExecuteTime": {
     "end_time": "2023-02-05T20:21:08.076192Z",
     "start_time": "2023-02-05T20:21:08.066219Z"
    },
    "code_folding": [
     0
    ]
   },
   "outputs": [],
   "source": [
    "#\n",
    "# from PIL import Image, ImageChops\n",
    "# import os\n",
    "# from pathlib import Path\n",
    "# from fpdf import FPDF\n",
    "\n",
    "# def jpeg_to_pdf(path):\n",
    "#     images = []\n",
    "#     for filename in os.listdir(path):\n",
    "#         if filename.endswith(\".jpeg\") or filename.endswith(\".jpg\"):\n",
    "#             image = Image.open(os.path.join(path, filename))\n",
    "#             image = image.convert(\"1\")\n",
    "#             bg = Image.new(image.mode, image.size, image.getpixel((0,0)))\n",
    "#             diff = ImageChops.difference(image, bg)\n",
    "#             bbox = diff.getbbox()\n",
    "#             if bbox:\n",
    "#                 image = image.crop(bbox)\n",
    "#             image = image.point(lambda x: 255 if x>128 else 0, \"1\")\n",
    "#             images.append(image)\n",
    "    \n",
    "#     pdf_path = Path(path) / \"outfile.pdf\"\n",
    "#     with pdf_path.open(\"wb\") as pdf:\n",
    "#         pdf_obj = FPDF()\n",
    "#         for image in images:\n",
    "#             pdf_obj.add_page()\n",
    "#             pdf_obj.image(image, 0, 0)\n",
    "#         pdf_obj.output(pdf, \"F\")\n"
   ]
  },
  {
   "cell_type": "code",
   "execution_count": 26,
   "metadata": {
    "ExecuteTime": {
     "end_time": "2023-02-05T20:21:44.788524Z",
     "start_time": "2023-02-05T20:21:44.782533Z"
    },
    "code_folding": [
     0
    ]
   },
   "outputs": [],
   "source": [
    "#\n",
    "# from fpdf2 import FPDF\n",
    "# import os\n",
    "\n",
    "# def jpeg_to_pdf(path):\n",
    "#     images = [image for image in os.listdir(path) if image.endswith(\".jpeg\")]\n",
    "    \n",
    "#     pdf = FPDF()\n",
    "    \n",
    "#     for image in images:\n",
    "#         pdf.add_page()\n",
    "#         pdf.image(os.path.join(path, image), x=0, y=0, w=pdf.w, h=pdf.h)\n",
    "    \n",
    "#     pdf.output(\"combined_images.pdf\", \"F\")"
   ]
  },
  {
   "cell_type": "code",
   "execution_count": 30,
   "metadata": {
    "ExecuteTime": {
     "end_time": "2023-02-05T20:23:57.724082Z",
     "start_time": "2023-02-05T20:23:57.707161Z"
    },
    "code_folding": [
     0
    ]
   },
   "outputs": [],
   "source": [
    "#\n",
    "# import os\n",
    "# from PIL import Image\n",
    "\n",
    "# def jpeg_to_pdf(path):\n",
    "#     images = []\n",
    "#     for filename in os.listdir(path):\n",
    "#         if filename.endswith(\".jpeg\"):\n",
    "#             image = Image.open(os.path.join(path, filename))\n",
    "#             images.append(image)\n",
    "#     if not images:\n",
    "#         raise Exception(\"No JPEG images found in the specified folder\")\n",
    "#     output_file = Image.new(\"RGB\", (images[0].width, images[0].height * len(images)), (255, 255, 255))\n",
    "#     for i, image in enumerate(images):\n",
    "#         output_file.paste(image, (0, i * images[0].height))\n",
    "#     resolution = images[0].info[\"dpi\"] if \"dpi\" in images[0].info else 100.0\n",
    "#     output_file.save(\"output.pdf\", \"PDF\", resolution=resolution)\n",
    "#     print(\"PDF file created successfully\")"
   ]
  },
  {
   "cell_type": "code",
   "execution_count": 32,
   "metadata": {
    "ExecuteTime": {
     "end_time": "2023-02-05T20:24:18.784574Z",
     "start_time": "2023-02-05T20:24:18.762580Z"
    }
   },
   "outputs": [],
   "source": [
    "import os\n",
    "from PIL import Image\n",
    "\n",
    "def jpeg_to_pdf(path):\n",
    "    images = []\n",
    "    for filename in os.listdir(path):\n",
    "        if filename.endswith(\".jpeg\"):\n",
    "            image = Image.open(os.path.join(path, filename))\n",
    "            width, height = image.size\n",
    "            left = int(width * 0.1)\n",
    "            right = int(width * 0.9)\n",
    "            top = 0\n",
    "            bottom = height\n",
    "            image = image.crop((left, top, right, bottom))\n",
    "            images.append(image)\n",
    "    if not images:\n",
    "        raise Exception(\"No JPEG images found in the specified folder\")\n",
    "    output_file = Image.new(\"RGB\", (images[0].width, images[0].height * len(images)), (255, 255, 255))\n",
    "    for i, image in enumerate(images):\n",
    "        output_file.paste(image, (0, i * images[0].height))\n",
    "    resolution = images[0].info[\"dpi\"] if \"dpi\" in images[0].info else 100.0\n",
    "    output_file.save(\"output.pdf\", \"PDF\", resolution=resolution)\n",
    "    print(\"PDF file created successfully\")\n"
   ]
  },
  {
   "cell_type": "code",
   "execution_count": 35,
   "metadata": {
    "ExecuteTime": {
     "end_time": "2023-02-05T20:24:26.612471Z",
     "start_time": "2023-02-05T20:24:26.599507Z"
    }
   },
   "outputs": [],
   "source": [
    "path = \"D:/webmtbh/assets_static/notes_system\""
   ]
  },
  {
   "cell_type": "code",
   "execution_count": 36,
   "metadata": {
    "ExecuteTime": {
     "end_time": "2023-02-05T20:24:27.634512Z",
     "start_time": "2023-02-05T20:24:26.992206Z"
    }
   },
   "outputs": [
    {
     "name": "stdout",
     "output_type": "stream",
     "text": [
      "PDF file created successfully\n"
     ]
    }
   ],
   "source": [
    "jpeg_to_pdf(path=path)"
   ]
  },
  {
   "cell_type": "code",
   "execution_count": null,
   "metadata": {},
   "outputs": [],
   "source": []
  }
 ],
 "metadata": {
  "kernelspec": {
   "display_name": "Python 3",
   "language": "python",
   "name": "python3"
  },
  "language_info": {
   "codemirror_mode": {
    "name": "ipython",
    "version": 3
   },
   "file_extension": ".py",
   "mimetype": "text/x-python",
   "name": "python",
   "nbconvert_exporter": "python",
   "pygments_lexer": "ipython3",
   "version": "3.7.1"
  },
  "varInspector": {
   "cols": {
    "lenName": 16,
    "lenType": 16,
    "lenVar": 40
   },
   "kernels_config": {
    "python": {
     "delete_cmd_postfix": "",
     "delete_cmd_prefix": "del ",
     "library": "var_list.py",
     "varRefreshCmd": "print(var_dic_list())"
    },
    "r": {
     "delete_cmd_postfix": ") ",
     "delete_cmd_prefix": "rm(",
     "library": "var_list.r",
     "varRefreshCmd": "cat(var_dic_list()) "
    }
   },
   "types_to_exclude": [
    "module",
    "function",
    "builtin_function_or_method",
    "instance",
    "_Feature"
   ],
   "window_display": true
  }
 },
 "nbformat": 4,
 "nbformat_minor": 2
}
